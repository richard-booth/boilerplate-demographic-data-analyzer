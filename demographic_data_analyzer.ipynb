{
  "nbformat": 4,
  "nbformat_minor": 0,
  "metadata": {
    "colab": {
      "provenance": []
    },
    "kernelspec": {
      "name": "python3",
      "display_name": "Python 3"
    },
    "language_info": {
      "name": "python"
    }
  },
  "cells": [
    {
      "cell_type": "code",
      "execution_count": 1,
      "metadata": {
        "id": "QTaey2uHdoaO"
      },
      "outputs": [],
      "source": [
        "import pandas as pd"
      ]
    },
    {
      "cell_type": "code",
      "source": [
        "# Read data from file\n",
        "df = pd.read_csv('adult.data.csv')\n",
        "print(df)"
      ],
      "metadata": {
        "colab": {
          "base_uri": "https://localhost:8080/"
        },
        "id": "WuWakubSd1on",
        "outputId": "f5ddb023-06f6-4043-c126-45dbae3c0f4b"
      },
      "execution_count": 3,
      "outputs": [
        {
          "output_type": "stream",
          "name": "stdout",
          "text": [
            "       age         workclass  fnlwgt   education  education-num  \\\n",
            "0       39         State-gov   77516   Bachelors             13   \n",
            "1       50  Self-emp-not-inc   83311   Bachelors             13   \n",
            "2       38           Private  215646     HS-grad              9   \n",
            "3       53           Private  234721        11th              7   \n",
            "4       28           Private  338409   Bachelors             13   \n",
            "...    ...               ...     ...         ...            ...   \n",
            "32556   27           Private  257302  Assoc-acdm             12   \n",
            "32557   40           Private  154374     HS-grad              9   \n",
            "32558   58           Private  151910     HS-grad              9   \n",
            "32559   22           Private  201490     HS-grad              9   \n",
            "32560   52      Self-emp-inc  287927     HS-grad              9   \n",
            "\n",
            "           marital-status         occupation   relationship   race     sex  \\\n",
            "0           Never-married       Adm-clerical  Not-in-family  White    Male   \n",
            "1      Married-civ-spouse    Exec-managerial        Husband  White    Male   \n",
            "2                Divorced  Handlers-cleaners  Not-in-family  White    Male   \n",
            "3      Married-civ-spouse  Handlers-cleaners        Husband  Black    Male   \n",
            "4      Married-civ-spouse     Prof-specialty           Wife  Black  Female   \n",
            "...                   ...                ...            ...    ...     ...   \n",
            "32556  Married-civ-spouse       Tech-support           Wife  White  Female   \n",
            "32557  Married-civ-spouse  Machine-op-inspct        Husband  White    Male   \n",
            "32558             Widowed       Adm-clerical      Unmarried  White  Female   \n",
            "32559       Never-married       Adm-clerical      Own-child  White    Male   \n",
            "32560  Married-civ-spouse    Exec-managerial           Wife  White  Female   \n",
            "\n",
            "       capital-gain  capital-loss  hours-per-week native-country salary  \n",
            "0              2174             0              40  United-States  <=50K  \n",
            "1                 0             0              13  United-States  <=50K  \n",
            "2                 0             0              40  United-States  <=50K  \n",
            "3                 0             0              40  United-States  <=50K  \n",
            "4                 0             0              40           Cuba  <=50K  \n",
            "...             ...           ...             ...            ...    ...  \n",
            "32556             0             0              38  United-States  <=50K  \n",
            "32557             0             0              40  United-States   >50K  \n",
            "32558             0             0              40  United-States  <=50K  \n",
            "32559             0             0              20  United-States  <=50K  \n",
            "32560         15024             0              40  United-States   >50K  \n",
            "\n",
            "[32561 rows x 15 columns]\n"
          ]
        }
      ]
    },
    {
      "cell_type": "markdown",
      "source": [
        "# How many people of each race are represented in this dataset? This should be a Pandas series with race names as the index labels. (race column)\n"
      ],
      "metadata": {
        "id": "-1Hw041weAXt"
      }
    },
    {
      "cell_type": "code",
      "source": [
        "race_count = df.value_counts('race')\n",
        "print(race_count)"
      ],
      "metadata": {
        "colab": {
          "base_uri": "https://localhost:8080/"
        },
        "id": "h8dFdS1Od5Ab",
        "outputId": "f8fe37db-03ea-41b8-87d5-6bb888bb8e7c"
      },
      "execution_count": 4,
      "outputs": [
        {
          "output_type": "stream",
          "name": "stdout",
          "text": [
            "race\n",
            "White                 27816\n",
            "Black                  3124\n",
            "Asian-Pac-Islander     1039\n",
            "Amer-Indian-Eskimo      311\n",
            "Other                   271\n",
            "Name: count, dtype: int64\n"
          ]
        }
      ]
    },
    {
      "cell_type": "markdown",
      "source": [
        "# What is the average age of men?"
      ],
      "metadata": {
        "id": "bxKCzWc0eIUL"
      }
    },
    {
      "cell_type": "code",
      "source": [
        "men = df[df.sex == 'Male']\n",
        "average_age_men = men['age'].mean().round(1)\n",
        "print(average_age_men)"
      ],
      "metadata": {
        "colab": {
          "base_uri": "https://localhost:8080/"
        },
        "id": "wHx25AVSeFZJ",
        "outputId": "1c8343e3-7eca-4234-887e-8505d81bbb30"
      },
      "execution_count": 6,
      "outputs": [
        {
          "output_type": "stream",
          "name": "stdout",
          "text": [
            "39.4\n"
          ]
        }
      ]
    },
    {
      "cell_type": "markdown",
      "source": [
        "# What is the percentage of people who have a Bachelor's degree?"
      ],
      "metadata": {
        "id": "Qg0z7fSDedD1"
      }
    },
    {
      "cell_type": "code",
      "source": [
        "ba = df[df.education == 'Bachelors']\n",
        "percentage_bachelors = round(len(ba)/len(df) * 100,1)\n",
        "print(percentage_bachelors)"
      ],
      "metadata": {
        "colab": {
          "base_uri": "https://localhost:8080/"
        },
        "id": "H1lW9CopeUpn",
        "outputId": "60afa65f-3b63-428a-bb0e-d313035fddb4"
      },
      "execution_count": 8,
      "outputs": [
        {
          "output_type": "stream",
          "name": "stdout",
          "text": [
            "16.4\n"
          ]
        }
      ]
    },
    {
      "cell_type": "markdown",
      "source": [
        "# What percentage of people with advanced education (Bachelors, Masters, or Doctorate) make more than 50K?\n",
        "# What percentage of people *without* advanced education make more than 50K?"
      ],
      "metadata": {
        "id": "0w829ICFemA9"
      }
    },
    {
      "cell_type": "code",
      "source": [
        " # with and without `Bachelors`, `Masters`, or `Doctorate`\n",
        "higher_education = df.loc[df['education'].isin(['Bachelors', 'Masters', 'Doctorate'])]\n",
        "lower_education = df.loc[~df['education'].isin(['Bachelors', 'Masters', 'Doctorate'])]\n",
        "\n",
        "# percentage with salary >50K\n",
        "higher_education_rich = round(len(higher_education[higher_education.salary=='>50K']) / len(higher_education) *100,1)\n",
        "lower_education_rich = round(len(lower_education[lower_education.salary=='>50K']) / len(lower_education) *100,1)\n",
        "\n",
        "print('Percentage of those with advanced education who make more than 50K:', higher_education_rich)\n",
        "\n",
        "print('Percentage of those without advanced education who make more than 50K:', lower_education_rich)\n"
      ],
      "metadata": {
        "colab": {
          "base_uri": "https://localhost:8080/"
        },
        "id": "v0aYwGakezgm",
        "outputId": "39f6c830-1dca-40a5-ce08-0578b8d1e52d"
      },
      "execution_count": 9,
      "outputs": [
        {
          "output_type": "stream",
          "name": "stdout",
          "text": [
            "Percentage of those with advanced education who make more than 50K: 46.5\n",
            "Percentage of those without advanced education who make more than 50K: 17.4\n"
          ]
        }
      ]
    },
    {
      "cell_type": "markdown",
      "source": [
        "#What is the minimum number of hours a person works per week?\n"
      ],
      "metadata": {
        "id": "SJXSUsq1fH_M"
      }
    },
    {
      "cell_type": "code",
      "source": [
        "min_work_hours = df['hours-per-week'].min()\n",
        "print(min_work_hours)"
      ],
      "metadata": {
        "colab": {
          "base_uri": "https://localhost:8080/"
        },
        "id": "lyQ1_wBAehIJ",
        "outputId": "10b6f025-f9c1-408a-df7c-8aff142638be"
      },
      "execution_count": 10,
      "outputs": [
        {
          "output_type": "stream",
          "name": "stdout",
          "text": [
            "1\n"
          ]
        }
      ]
    },
    {
      "cell_type": "markdown",
      "source": [
        "#What percentage of the people who work the minimum number of hours per week have a salary of more than 50K?"
      ],
      "metadata": {
        "id": "vdz7YylzfOnY"
      }
    },
    {
      "cell_type": "code",
      "source": [
        "min_hours = df[df['hours-per-week']==1]\n",
        "\n",
        "num_min_workers = len(min_hours)\n",
        "\n",
        "rich_percentage = round(len(min_hours[min_hours.salary=='>50K'])/num_min_workers *100,1)\n",
        "\n",
        "print(rich_percentage)"
      ],
      "metadata": {
        "colab": {
          "base_uri": "https://localhost:8080/"
        },
        "id": "cEMh6j93fMDW",
        "outputId": "6a906c4f-60eb-4636-8a2d-c632bdef5c2c"
      },
      "execution_count": 12,
      "outputs": [
        {
          "output_type": "stream",
          "name": "stdout",
          "text": [
            "10.0\n"
          ]
        }
      ]
    },
    {
      "cell_type": "markdown",
      "source": [
        "#What country has the highest percentage of people that earn >50K and what is that percentage?"
      ],
      "metadata": {
        "id": "PGjDmRd6fcoO"
      }
    },
    {
      "cell_type": "code",
      "source": [
        "countries = df[['native-country']].value_counts()\n",
        "\n",
        "rich = df[df.salary=='>50K'][['native-country']].value_counts()\n",
        "\n",
        "percent = round(rich*100/countries,1)\n",
        "\n",
        "highest_earning_country = percent[percent==percent.max()].index[0][0]\n",
        "highest_earning_country_percentage = percent[percent==percent.max()].iloc[0]\n",
        "\n",
        "print(highest_earning_country)\n",
        "print(highest_earning_country_percentage)"
      ],
      "metadata": {
        "colab": {
          "base_uri": "https://localhost:8080/"
        },
        "id": "pA_ZU8M8fVrd",
        "outputId": "535830d8-5add-4f8e-e203-8dc45459140c"
      },
      "execution_count": 13,
      "outputs": [
        {
          "output_type": "stream",
          "name": "stdout",
          "text": [
            "Iran\n",
            "41.9\n"
          ]
        }
      ]
    },
    {
      "cell_type": "markdown",
      "source": [
        "#Identify the most popular occupation for those who earn >50K in India."
      ],
      "metadata": {
        "id": "7BRch7tDfrLT"
      }
    },
    {
      "cell_type": "code",
      "source": [
        "india_mask = df['native-country']=='India'\n",
        "rich_mask = df['salary']=='>50K'\n",
        "rich_india = df[india_mask & rich_mask]\n",
        "\n",
        "occ = rich_india['occupation'].value_counts()\n",
        "top_IN_occupation=occ[occ==occ.max()].index[0]\n",
        "\n",
        "print(top_IN_occupation)"
      ],
      "metadata": {
        "colab": {
          "base_uri": "https://localhost:8080/"
        },
        "id": "H7yz06BWfmtb",
        "outputId": "537c06d1-409d-4977-a5a6-71d15944d6a1"
      },
      "execution_count": 14,
      "outputs": [
        {
          "output_type": "stream",
          "name": "stdout",
          "text": [
            "Prof-specialty\n"
          ]
        }
      ]
    },
    {
      "cell_type": "code",
      "source": [],
      "metadata": {
        "id": "H_c1jJ9GfyOv"
      },
      "execution_count": null,
      "outputs": []
    }
  ]
}